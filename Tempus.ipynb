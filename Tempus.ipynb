{
 "cells": [
  {
   "cell_type": "markdown",
   "id": "6511402d",
   "metadata": {},
   "source": [
    "# Tempus Bioinformatics Technical Challenge\n",
    "**Name: Maria Ahmad** <br>\n",
    "**Email: ahmad.maria98@gmail.com** <br>\n",
    "**Phone: (678) 800 8135** <br>\n",
    "**Position applying for: Bioinformatics Analyst** <br>"
   ]
  },
  {
   "cell_type": "markdown",
   "id": "e114a7bd",
   "metadata": {},
   "source": [
    "## Prototype a variant annotation tool\n",
    "Each variant must be annotated with the following pieces of information:\n",
    "1. Type of variation (substitution, insertion, CNV, etc.) and their effect (missense, silent,\n",
    "intergenic, etc.). If there are multiple effects, annotate with the most deleterious\n",
    "possibility.\n",
    "2. Depth of sequence coverage at the site of variation.\n",
    "3. Number of reads supporting the variant.\n",
    "4. Percentage of reads supporting the variant versus those supporting reference reads.\n",
    "5. Allele frequency of variant from ExAC API (API documentation is available here:\n",
    "http://exac.hms.harvard.edu/).\n",
    "6. Any additional annotations that you feel might be relevant."
   ]
  },
  {
   "cell_type": "markdown",
   "id": "8af6fe4b",
   "metadata": {},
   "source": [
    "### Part 0: Set up variables, load libraries, set up directory"
   ]
  },
  {
   "cell_type": "markdown",
   "id": "ea8bd232",
   "metadata": {},
   "source": [
    "Load libraries"
   ]
  },
  {
   "cell_type": "code",
   "execution_count": null,
   "id": "6ecec79c",
   "metadata": {},
   "outputs": [],
   "source": [
    "import os\n",
    "import subprocess\n",
    "import requests\n",
    "import pandas as pd"
   ]
  },
  {
   "cell_type": "markdown",
   "id": "6d7cec8a",
   "metadata": {},
   "source": [
    "Set up working directory"
   ]
  },
  {
   "cell_type": "code",
   "execution_count": null,
   "id": "5de32457",
   "metadata": {},
   "outputs": [],
   "source": [
    "os.chdir('/data/ahmadm7/data/tempus')"
   ]
  },
  {
   "cell_type": "markdown",
   "id": "17704136",
   "metadata": {},
   "source": [
    "Set up variables"
   ]
  },
  {
   "cell_type": "code",
   "execution_count": null,
   "id": "e35f8dca",
   "metadata": {},
   "outputs": [],
   "source": [
    "# input VCF\n",
    "vcf = \"Challenge_data_renamed.vcf\"\n",
    "\n",
    "# file prefix\n",
    "file_prefix = \"Challenge_data\""
   ]
  },
  {
   "cell_type": "markdown",
   "id": "f9ad8bcb",
   "metadata": {},
   "source": [
    "### Part 1: Exploratory analysis\n",
    "Understand the current contents of the VCF file"
   ]
  },
  {
   "cell_type": "markdown",
   "id": "7fcff1ea",
   "metadata": {},
   "source": [
    "What information is in the INFO column?"
   ]
  },
  {
   "cell_type": "code",
   "execution_count": null,
   "id": "671fb23f",
   "metadata": {},
   "outputs": [],
   "source": [
    "command = \" grep '##INFO' {0} | cut -f3,6 -d'=' | sed 's/,Number=/\\t/g' | sed 's/>//g'\".format(vcf)\n",
    "\n",
    "output = subprocess.check_output(command,shell=True).decode('UTF-8')\n",
    "\n",
    "print(output)"
   ]
  },
  {
   "cell_type": "markdown",
   "id": "765f9f04",
   "metadata": {},
   "source": [
    "What information is in the FORMAT column?"
   ]
  },
  {
   "cell_type": "code",
   "execution_count": null,
   "id": "94a2468b",
   "metadata": {},
   "outputs": [],
   "source": [
    "command = \"grep '##FORMAT' {0} | cut -f3,6 -d'=' | sed 's/,Number=/\\t/g' | sed 's/>//g'\".format(vcf)\n",
    "\n",
    "output = subprocess.check_output(command,shell=True).decode('UTF-8')\n",
    "\n",
    "print(output)"
   ]
  },
  {
   "cell_type": "markdown",
   "id": "b8e523b4",
   "metadata": {},
   "source": [
    "How many variants are in the file?"
   ]
  },
  {
   "cell_type": "code",
   "execution_count": null,
   "id": "d58f3ab5",
   "metadata": {},
   "outputs": [],
   "source": [
    "variant_count = \"grep -v '#' {0} | wc -l\".format(vcf)\n",
    "variant_count = int(subprocess.check_output(variant_count,shell=True).decode('UTF-8'))\n",
    "# variant_count = int(variant_count.decode('utf-8'))\n",
    "\n",
    "print(variant_count)"
   ]
  },
  {
   "cell_type": "markdown",
   "id": "abbfe3e8",
   "metadata": {},
   "source": [
    "How many sample are in the file? <br>"
   ]
  },
  {
   "cell_type": "code",
   "execution_count": null,
   "id": "d5c6f522",
   "metadata": {},
   "outputs": [],
   "source": [
    "# command which uses bcftools to get sample IDs from the file\n",
    "command = \"bcftools query -l {0}\".format(vcf)\n",
    "# list of samples in vcf\n",
    "vcf_samples = subprocess.check_output(command,shell=True).decode('UTF-8').strip().split('\\n')\n",
    "\n",
    "print(vcf_samples)"
   ]
  },
  {
   "cell_type": "markdown",
   "id": "669f1058",
   "metadata": {},
   "source": [
    "**Exploratory analysis summary**"
   ]
  },
  {
   "cell_type": "markdown",
   "id": "3e534ad0",
   "metadata": {},
   "source": [
    "- From the INFO fields, we see that the depth of sequence coverage (DP) and the number of reads supporting the variant (AO) are provided in the original VCF. \n",
    "- The percent reads supporting the variant versus the reference can also be calculated from the AO and RO tags. \n",
    "- The type of variant (e.g. INDEL, SNP, complex) is also available in the INFO section tags. \n",
    "- The ID column is empty. "
   ]
  },
  {
   "cell_type": "markdown",
   "id": "4d9c8c7b",
   "metadata": {},
   "source": [
    "### Part 2: Read VCF, initialize VCF dataframe for further analysis"
   ]
  },
  {
   "cell_type": "markdown",
   "id": "a89f7564",
   "metadata": {},
   "source": [
    "Read the vcf into a pandas dataframe. Keep the comments saved into a separate list. Additional comments generated will be added to the comment list, and in the end the comment list will be merged with the updated VCF body. "
   ]
  },
  {
   "cell_type": "markdown",
   "id": "b54006d3",
   "metadata": {},
   "source": [
    "Read the VCF. "
   ]
  },
  {
   "cell_type": "code",
   "execution_count": null,
   "id": "c3f9f827",
   "metadata": {},
   "outputs": [],
   "source": [
    "# command to get the number of lines which are comment only (comment lines begin with double hashes)\n",
    "# we need the number of comment lines in order to know how many lines to skip when reading in the VCF into a df\n",
    "comment_count = \"grep '##' {0} | wc -l\".format(vcf)\n",
    "comment_count = int(subprocess.check_output(comment_count,shell=True).decode('UTF-8'))\n",
    "print('The number of comments is: {0}'.format(comment_count))\n",
    "\n",
    "# read the vcf into a pandas dataframe, skipping the comment lines\n",
    "vcf_df = pd.read_csv(vcf,sep='\\t',skiprows=comment_count,header=0)"
   ]
  },
  {
   "cell_type": "markdown",
   "id": "4145757e",
   "metadata": {},
   "source": [
    "Save the original comment lines to a list. "
   ]
  },
  {
   "cell_type": "code",
   "execution_count": null,
   "id": "e6f2280e",
   "metadata": {},
   "outputs": [],
   "source": [
    "command = \"grep '##' {0}\".format(vcf)\n",
    "comments_list = subprocess.check_output(command,shell=True).decode('UTF-8').strip().split('\\n')"
   ]
  },
  {
   "cell_type": "markdown",
   "id": "da8f0b91",
   "metadata": {},
   "source": [
    "Add variant ID to the VCF. This is not the dbSNP rsID, but for now it is a description of the locus. The format for the ID is CHR-POS-REF-ALT."
   ]
  },
  {
   "cell_type": "code",
   "execution_count": null,
   "id": "1f27f575",
   "metadata": {},
   "outputs": [],
   "source": [
    "vcf_df['ID'] = vcf_df['#CHROM'].astype(str) + '-' + vcf_df['POS'].astype(str) + '-' + vcf_df['REF'] + '-' + vcf_df['ALT']"
   ]
  },
  {
   "cell_type": "code",
   "execution_count": null,
   "id": "f6aa9f3a",
   "metadata": {},
   "outputs": [],
   "source": [
    "# preview the data\n",
    "vcf_df[1:3]"
   ]
  },
  {
   "cell_type": "markdown",
   "id": "6696281a",
   "metadata": {},
   "source": [
    "### Part 3: Annotate the VCF with ExAC allele frequency, variant consequence, and more. \n",
    "For multiple consequences, annotate with the most deleterious possibility. <br>\n",
    "In the ExAC database, the most deleterious consequence comes first. "
   ]
  },
  {
   "cell_type": "markdown",
   "id": "0b474ccb",
   "metadata": {},
   "source": [
    "Iterate through the rows, pull variant information from the ExAC database. "
   ]
  },
  {
   "cell_type": "code",
   "execution_count": null,
   "id": "74e2b9bf",
   "metadata": {},
   "outputs": [],
   "source": [
    "# initialize a list of INFO tags\n",
    "info_tags = []\n",
    "\n",
    "# iterate through the variant IDs\n",
    "for variant_ID in vcf_df['ID']:\n",
    "    \n",
    "#     print(variant_ID)\n",
    "        \n",
    "    # API URL to get the variant json\n",
    "    url = 'http://exac.hms.harvard.edu/rest/variant/variant/{0}'.format(variant_ID)\n",
    "    \n",
    "    # pull the information\n",
    "    response = requests.get(url)\n",
    "    \n",
    "    # convert to json\n",
    "    variant_info = response.json()\n",
    "    \n",
    "    # initialize the list of consequences, and major consequences, biotype\n",
    "    consequences_set = set()\n",
    "    major_consequences_set = []\n",
    "    biotype_set = set()\n",
    "        \n",
    "    # complete information is not available for every variant (e.g. allele frequency), \n",
    "    # so extract information through try-except\n",
    "    try: \n",
    "        # extract allele frequency, round it to 3 decimal spaces\n",
    "        allele_freq = round(variant_info['allele_freq'],3)\n",
    "        \n",
    "        \n",
    "        # extract vep annotations, which contain the variant consequence\n",
    "        # vep_anno is a list of dictionaries, each dictionary specifies a different version of the ___\n",
    "        vep_anno = variant_info['vep_annotations']\n",
    "        \n",
    "        # check to see if vep_anno is empty of annotations\n",
    "        if vep_anno == []:\n",
    "            \n",
    "            # set variables to '.'\n",
    "            consequences_set.add('.')\n",
    "            major_consequences_set.append('.')\n",
    "            biotype_set.add('.')\n",
    "            \n",
    "        else:\n",
    "\n",
    "            # iterate through the versions in vep_anno\n",
    "            # note: the most deleterious consequence will be in the first iteration in the list of vep_anno,\n",
    "            # according to: https://useast.ensembl.org/info/genome/variation/prediction/predicted_data.html#consequences\n",
    "            for version in vep_anno:\n",
    "\n",
    "                # extract consequence(s)\n",
    "                consequences = version['Consequence']\n",
    "\n",
    "                # extract the major consequence \n",
    "                ### THE first one in the iteration will be the major\n",
    "                major_consequence = version['major_consequence']\n",
    "\n",
    "                ### ADDITIONAL annotation ###\n",
    "                # extract the biotype\n",
    "                biotype = version['BIOTYPE']\n",
    "\n",
    "                # if any of the values are equal to the empty string, set them equal to '.' instead\n",
    "                if biotype == '':\n",
    "                    biotype = '.'\n",
    "                if major_consequence == '':\n",
    "                    major_consequence = '.'\n",
    "                if consequences == '':\n",
    "                    consequences = '.'\n",
    "\n",
    "                # add consequence to list\n",
    "                consequences_set.add(consequences.replace('&',','))\n",
    "                # add major consequence to the set\n",
    "                major_consequences_set.append(major_consequence)\n",
    "                # add biotype to set\n",
    "                biotype_set.add(biotype)\n",
    "    \n",
    "    except:\n",
    "        # set variables to '.'\n",
    "        allele_freq = '.'\n",
    "        \n",
    "        consequences_set.add('.')\n",
    "        \n",
    "        major_consequences_set.append('.')\n",
    "        \n",
    "        biotype_set.add('.')\n",
    "     \n",
    "    \n",
    "    # make a tag for frequence\n",
    "    freq_tag = 'ExAC_AF={0}'.format(allele_freq)\n",
    "        \n",
    "        \n",
    "    # convert all the consequences into a string delimited with a comma\n",
    "    consequences_str = ','.join(set(','.join(consequences_set).split(',')))\n",
    "    # make a tag for consequences\n",
    "    consequence_tag = 'CSQ={0}'.format(consequences_str)\n",
    "    \n",
    "    \n",
    "    # the major consequece is the first in the major consequence set\n",
    "    major_consequence = major_consequences_set[0]\n",
    "    # make a tag for major consequence\n",
    "    major_consequence_tag = 'Major_CSQ={0}'.format(major_consequence)\n",
    "    \n",
    "    \n",
    "    # convert set of biotypes to str delimited with a comma\n",
    "    biotype_str = ','.join(biotype_set)\n",
    "    # make a tag for biotype\n",
    "    biotype_tag = 'BIOTYPE={0}'.format(biotype_str)\n",
    "    \n",
    "    \n",
    "    # concatenate the tags\n",
    "    tag = freq_tag + ';' + consequence_tag + ';' + major_consequence_tag + ';' + biotype_tag\n",
    "    # add tag to list of tags\n",
    "    info_tags.append(tag)"
   ]
  },
  {
   "cell_type": "markdown",
   "id": "a382a171",
   "metadata": {},
   "source": [
    "Add the additional INFO tags to the VCF data frame's INFO column"
   ]
  },
  {
   "cell_type": "code",
   "execution_count": null,
   "id": "a5973be7",
   "metadata": {},
   "outputs": [],
   "source": [
    "tags = pd.DataFrame({'TAG':info_tags})\n",
    "vcf_df['INFO'] = vcf_df['INFO']+';'+ tags['TAG']"
   ]
  },
  {
   "cell_type": "markdown",
   "id": "24e6e8b1",
   "metadata": {},
   "source": [
    "For the three tags, Exac_AF, CSQ, Major_CSQ, and BIOTYPE, add comment lines to the comment list. "
   ]
  },
  {
   "cell_type": "code",
   "execution_count": null,
   "id": "abca0bf7",
   "metadata": {},
   "outputs": [],
   "source": [
    "# make a comment line to explain the tags\n",
    "exac_af_comment = '##INFO=<ID=ExAC_AF,Number=A,Type=Float,Description=\"The ExAC allele frequency of the variant.\">'\n",
    "consequence_comment = '##INFO=<ID=CSQ,Number=A,Type=String,Description=\"The consequence(s) of the variant, such as missense variant, inframe deletion, etc.\">'\n",
    "major_consequence_comment = '##INFO=<ID=Major_CSQ,Number=A,Type=String,Description=\"The most severe consequence, as defined by Ensembl (https://useast.ensembl.org/info/genome/variation/prediction/predicted_data.html#consequences).\">'\n",
    "biotype_comment = '##INFO=<ID=BIOTYPE,Number=A,Type=String,Description=\"A gene or transcript classification, as defined by Ensembl (https://m.ensembl.org/info/genome/genebuild/biotypes.html).\">'\n",
    "\n",
    "# add comments to list of comments\n",
    "comments_list.append(exac_af_comment)\n",
    "comments_list.append(consequence_comment)\n",
    "comments_list.append(major_consequence_comment)\n",
    "comments_list.append(biotype_comment)"
   ]
  },
  {
   "cell_type": "markdown",
   "id": "5e501a80",
   "metadata": {},
   "source": [
    "#### Annotate VCF with percentage of reads supporting the variant"
   ]
  },
  {
   "cell_type": "code",
   "execution_count": null,
   "id": "10881c63",
   "metadata": {},
   "outputs": [],
   "source": [
    "# split the INFO line by tags (;), then separate the key and value (=), and extract the value [1]\n",
    "# total read depth\n",
    "dp = vcf_df['INFO'].str.split(';',expand=True)[7].str.split('=',expand=True)[1].astype(int)\n",
    "\n",
    "# total alt var read observation count\n",
    "# note: in some cases more than one number is provided, so that has to be parsed later\n",
    "ao = vcf_df['INFO'].str.split(';',expand=True)[5].str.split('=',expand=True)[1]\n",
    "\n",
    "# total ref var read observation count \n",
    "ro = vcf_df['INFO'].str.split(';',expand=True)[28].str.split('=',expand=True)[1]\n",
    "\n",
    "\n",
    "# make a sum of the alt var observation counts when more than one number is provided\n",
    "# initialize the list of alt var read observation counts\n",
    "ao_summed_list = []\n",
    "\n",
    "# iterate through each row\n",
    "for ao_row in ao.str.split(','):\n",
    "    # converts the value into a list of integers\n",
    "    ao_row = [int(ao_value) for ao_value in ao_row]\n",
    "    \n",
    "    # sums the integers (important when more than one integer)\n",
    "    ao_row = sum(ao_row)\n",
    "    \n",
    "    # adds to list\n",
    "    ao_summed_list.append(ao_row)\n",
    "\n",
    "# make a dataframe of the alt var observation counts\n",
    "ao_df = pd.DataFrame({'ID':vcf_df['ID'],'AO':ao_summed_list})\n",
    "\n",
    "# calculate the percent reads which support the variant\n",
    "# AO / (AO + RO)\n",
    "percentage = round(ao_df['AO'] / (ao_df['AO'] + ro.astype(int)) * 100,2)\n",
    "\n",
    "# create tag for percent reads which support the variant\n",
    "tag = 'PSV=' + percentage.astype(str)\n",
    "\n",
    "# create comment for percent reads which support the variant\n",
    "comment_psv = '##INFO=<ID=PSV,Number=1,Type=Float,Description=\"Percentage of reads supporting the variant versus those supporting reference reads.\">'\n",
    "# add comment to comment list\n",
    "comments_list.append(comment_psv)\n",
    "\n",
    "# add PSV tag to the VCF INFO column\n",
    "vcf_df['INFO'] = vcf_df['INFO'] + ';' + tag"
   ]
  },
  {
   "cell_type": "markdown",
   "id": "740262d1",
   "metadata": {},
   "source": [
    "#### Write the VCF dataframe to a text file, and the updated comments to another text file, and merge the text files. "
   ]
  },
  {
   "cell_type": "code",
   "execution_count": null,
   "id": "747616ec",
   "metadata": {},
   "outputs": [],
   "source": [
    "# vcf body file name\n",
    "vcf_body = file_prefix + '_body.txt'\n",
    "# write to a file\n",
    "vcf_df.to_csv(vcf_body,index=False,sep='\\t')\n",
    "\n",
    "# vcf comments file name\n",
    "vcf_comments = file_prefix + '_comments.txt'\n",
    "# convert comments list to a string\n",
    "comments_string = '\\n'.join(comments_list) + '\\n'\n",
    "# write to a file\n",
    "handle = open(vcf_comments,'w')\n",
    "handle.write(comments_string)\n",
    "handle.close()\n",
    "\n",
    "# merge the comments file and the VCF body together. \n",
    "vcf_updated = file_prefix + '_annotated.vcf'\n",
    "command = \"cat {0} {1} > {2} \".format(vcf_comments,vcf_body,vcf_updated)\n",
    "subprocess.call(command,shell=True)\n",
    "\n",
    "# remove the body and comments file\n",
    "command = \"rm {0} {1}\".format(vcf_comments, vcf_body)\n",
    "subprocess.call(command,shell=True)"
   ]
  }
 ],
 "metadata": {
  "kernelspec": {
   "display_name": "Python 3",
   "language": "python",
   "name": "python3"
  },
  "language_info": {
   "codemirror_mode": {
    "name": "ipython",
    "version": 3
   },
   "file_extension": ".py",
   "mimetype": "text/x-python",
   "name": "python",
   "nbconvert_exporter": "python",
   "pygments_lexer": "ipython3",
   "version": "3.6.7"
  }
 },
 "nbformat": 4,
 "nbformat_minor": 5
}
